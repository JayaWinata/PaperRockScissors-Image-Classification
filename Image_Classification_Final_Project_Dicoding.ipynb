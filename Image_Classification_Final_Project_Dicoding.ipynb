{
  "cells": [
    {
      "cell_type": "code",
      "execution_count": 19,
      "metadata": {
        "id": "L1B5On4w1BjJ"
      },
      "outputs": [],
      "source": [
        "from tensorflow.keras.callbacks import EarlyStopping, ModelCheckpoint\n",
        "from tensorflow.keras.preprocessing.image import ImageDataGenerator\n",
        "from tensorflow.keras.preprocessing import image\n",
        "import matplotlib.image as mpimg\n",
        "import matplotlib.pyplot as plt\n",
        "%matplotlib inline\n",
        "import tensorflow as tf\n",
        "import zipfile, os\n",
        "import numpy as np\n",
        "import shutil\n",
        "import random"
      ]
    },
    {
      "cell_type": "code",
      "execution_count": 20,
      "metadata": {
        "colab": {
          "base_uri": "https://localhost:8080/",
          "height": 35
        },
        "id": "DTwgPaY3FY1l",
        "outputId": "1f7e8d30-62e1-4649-8683-96f1002f40df"
      },
      "outputs": [
        {
          "data": {
            "text/plain": [
              "'2.15.0'"
            ]
          },
          "execution_count": 20,
          "metadata": {},
          "output_type": "execute_result"
        }
      ],
      "source": [
        "tf.__version__"
      ]
    },
    {
      "cell_type": "code",
      "execution_count": 21,
      "metadata": {
        "id": "tFBHzeClFzHn"
      },
      "outputs": [],
      "source": [
        "base_dir = 'Dataset/rockpaperscissors'\n",
        "train_dir = os.path.join(base_dir, 'train')\n",
        "validation_dir = os.path.join(base_dir, 'val')"
      ]
    },
    {
      "cell_type": "code",
      "execution_count": 22,
      "metadata": {
        "id": "vt9-AQj5GQIE"
      },
      "outputs": [],
      "source": [
        "if not os.path.exists(train_dir):\n",
        "    os.makedirs(train_dir)\n",
        "if not os.path.exists(validation_dir):\n",
        "    os.makedirs(validation_dir)"
      ]
    },
    {
      "cell_type": "code",
      "execution_count": 24,
      "metadata": {
        "id": "qqXVdbndNFfk"
      },
      "outputs": [],
      "source": [
        "random.seed(42)\n",
        "\n",
        "for class_dir in ['paper', 'scissors', 'rock']:\n",
        "    class_path = os.path.join(base_dir, class_dir)\n",
        "    images = os.listdir(class_path)\n",
        "    random.shuffle(images)\n",
        "\n",
        "    num_train = int(np.ceil(len(images) * 0.6))\n",
        "    num_val = len(images) - num_train\n",
        "\n",
        "    train_class_dir = os.path.join(train_dir, class_dir)\n",
        "    if not os.path.exists(train_class_dir):\n",
        "        os.makedirs(train_class_dir)\n",
        "    val_class_dir = os.path.join(validation_dir, class_dir)\n",
        "    if not os.path.exists(val_class_dir):\n",
        "        os.makedirs(val_class_dir)\n",
        "\n",
        "    for i in range(num_train):\n",
        "        shutil.move(os.path.join(class_path, images[i]), train_class_dir)\n",
        "    for i in range(num_train, len(images)):\n",
        "        shutil.move(os.path.join(class_path, images[i]), val_class_dir)"
      ]
    },
    {
      "cell_type": "code",
      "execution_count": 25,
      "metadata": {
        "id": "PULS5p4LQ4rh"
      },
      "outputs": [],
      "source": [
        "def find_size(dataset):\n",
        "  sum_ = 0\n",
        "  for i in ['paper', 'rock', 'scissors']:\n",
        "    sum_ += len(os.listdir(f'Dataset/rockpaperscissors/{dataset}/{i}'))\n",
        "  return sum_"
      ]
    },
    {
      "cell_type": "code",
      "execution_count": 26,
      "metadata": {
        "colab": {
          "base_uri": "https://localhost:8080/"
        },
        "id": "AyVJe0sgScaG",
        "outputId": "2f5ded2e-0e3f-45b9-9784-a34d21de7ec7"
      },
      "outputs": [
        {
          "name": "stdout",
          "output_type": "stream",
          "text": [
            "1314\n",
            "874\n"
          ]
        }
      ],
      "source": [
        "print(find_size('train'))\n",
        "print(find_size('val'))"
      ]
    },
    {
      "cell_type": "code",
      "execution_count": 27,
      "metadata": {
        "id": "LZmyWMsmTEKw"
      },
      "outputs": [],
      "source": [
        "train_datagen = ImageDataGenerator(\n",
        "                    rescale=1./255,\n",
        "                    rotation_range=20,\n",
        "                    width_shift_range=0.2,\n",
        "                    height_shift_range=0.2,\n",
        "                    shear_range=0.2,\n",
        "                    zoom_range=0.2,\n",
        "                    horizontal_flip=True,\n",
        "                    fill_mode='nearest')\n",
        "validation_datagen = ImageDataGenerator(rescale=1./255)"
      ]
    },
    {
      "cell_type": "code",
      "execution_count": 28,
      "metadata": {
        "colab": {
          "base_uri": "https://localhost:8080/"
        },
        "id": "aDJ-xmtCX3CZ",
        "outputId": "72f56af5-6e54-47e8-f7a0-6206b8550b6f"
      },
      "outputs": [
        {
          "name": "stdout",
          "output_type": "stream",
          "text": [
            "Found 1314 images belonging to 3 classes.\n",
            "Found 874 images belonging to 3 classes.\n"
          ]
        }
      ],
      "source": [
        "train_generator = train_datagen.flow_from_directory(\n",
        "                    train_dir,\n",
        "                    target_size=(224,224),\n",
        "                    batch_size=32,\n",
        "                    class_mode='categorical')\n",
        "validation_generator = validation_datagen.flow_from_directory(\n",
        "                    validation_dir,\n",
        "                    target_size=(224, 224),\n",
        "                    batch_size=32,\n",
        "                    class_mode='categorical')"
      ]
    },
    {
      "cell_type": "code",
      "execution_count": 29,
      "metadata": {
        "colab": {
          "base_uri": "https://localhost:8080/",
          "height": 253
        },
        "id": "5aBDql-TUVVR",
        "outputId": "ecbd6923-9afe-460e-a1cb-f607ef530be7"
      },
      "outputs": [
        {
          "name": "stdout",
          "output_type": "stream",
          "text": [
            "[[0. 1. 0.]\n",
            " [1. 0. 0.]\n",
            " [0. 0. 1.]\n",
            " [0. 1. 0.]\n",
            " [0. 0. 1.]\n",
            " [0. 1. 0.]\n",
            " [0. 1. 0.]\n",
            " [1. 0. 0.]\n",
            " [0. 1. 0.]\n",
            " [0. 0. 1.]]\n"
          ]
        },
        {
          "data": {
            "image/png": "[encoded data removed]",
            "text/plain": [
              "<Figure size 640x480 with 10 Axes>"
            ]
          },
          "metadata": {},
          "output_type": "display_data"
        }
      ],
      "source": [
        "NUMBER_OF_DATA = 10\n",
        "images, labels = next(train_generator)\n",
        "print(labels[:NUMBER_OF_DATA])\n",
        "for i in range(NUMBER_OF_DATA):\n",
        "    plt.subplot(1, NUMBER_OF_DATA, i+1)\n",
        "    plt.imshow(images[i])\n",
        "    plt.axis('off')\n",
        "\n",
        "plt.show()"
      ]
    },
    {
      "cell_type": "code",
      "execution_count": 30,
      "metadata": {
        "colab": {
          "base_uri": "https://localhost:8080/"
        },
        "id": "PEBPuYz2YNTh",
        "outputId": "a45bec5b-fbfc-42d0-b98b-14ed5fe51600"
      },
      "outputs": [],
      "source": [
        "model = tf.keras.models.Sequential([\n",
        "    tf.keras.layers.Conv2D(32, (3,3), activation='relu', input_shape=(224, 224, 3)),\n",
        "    tf.keras.layers.MaxPooling2D(2, 2),\n",
        "    tf.keras.layers.Conv2D(64, (3,3), activation='relu'),\n",
        "    tf.keras.layers.MaxPooling2D(2,2),\n",
        "    tf.keras.layers.Flatten(),\n",
        "    tf.keras.layers.Dense(256),\n",
        "    tf.keras.layers.LeakyReLU(alpha=0.1),\n",
        "    tf.keras.layers.Dropout(0.2),\n",
        "    tf.keras.layers.Dense(128),\n",
        "    tf.keras.layers.LeakyReLU(alpha=0.1),\n",
        "    tf.keras.layers.Dropout(0.2),\n",
        "    tf.keras.layers.Dense(3, activation='softmax')\n",
        "])"
      ]
    },
    {
      "cell_type": "code",
      "execution_count": 31,
      "metadata": {
        "colab": {
          "base_uri": "https://localhost:8080/",
          "height": 544
        },
        "id": "U7ioMR5HdueM",
        "outputId": "6bed03e7-b493-445c-dda0-e7dc29c26a57"
      },
      "outputs": [
        {
          "name": "stdout",
          "output_type": "stream",
          "text": [
            "Model: \"sequential_1\"\n",
            "_________________________________________________________________\n",
            " Layer (type)                Output Shape              Param #   \n",
            "=================================================================\n",
            " conv2d_2 (Conv2D)           (None, 222, 222, 32)      896       \n",
            "                                                                 \n",
            " max_pooling2d_2 (MaxPoolin  (None, 111, 111, 32)      0         \n",
            " g2D)                                                            \n",
            "                                                                 \n",
            " conv2d_3 (Conv2D)           (None, 109, 109, 64)      18496     \n",
            "                                                                 \n",
            " max_pooling2d_3 (MaxPoolin  (None, 54, 54, 64)        0         \n",
            " g2D)                                                            \n",
            "                                                                 \n",
            " flatten_1 (Flatten)         (None, 186624)            0         \n",
            "                                                                 \n",
            " dense_3 (Dense)             (None, 256)               47776000  \n",
            "                                                                 \n",
            " leaky_re_lu_2 (LeakyReLU)   (None, 256)               0         \n",
            "                                                                 \n",
            " dropout_2 (Dropout)         (None, 256)               0         \n",
            "                                                                 \n",
            " dense_4 (Dense)             (None, 128)               32896     \n",
            "                                                                 \n",
            " leaky_re_lu_3 (LeakyReLU)   (None, 128)               0         \n",
            "                                                                 \n",
            " dropout_3 (Dropout)         (None, 128)               0         \n",
            "                                                                 \n",
            " dense_5 (Dense)             (None, 3)                 387       \n",
            "                                                                 \n",
            "=================================================================\n",
            "Total params: 47828675 (182.45 MB)\n",
            "Trainable params: 47828675 (182.45 MB)\n",
            "Non-trainable params: 0 (0.00 Byte)\n",
            "_________________________________________________________________\n"
          ]
        }
      ],
      "source": [
        "model.summary()"
      ]
    },
    {
      "cell_type": "code",
      "execution_count": 32,
      "metadata": {
        "id": "6htq_mEvGL57"
      },
      "outputs": [],
      "source": [
        "early_stopping = EarlyStopping(monitor='val_loss',min_delta = 0, patience = 5, verbose = 1, restore_best_weights=True)\n",
        "checkpoint = ModelCheckpoint(filepath='Model/model_final.keras', monitor='val_accuracy', save_best_only=True, mode='max', save_weights_only=False, verbose=1)"
      ]
    },
    {
      "cell_type": "code",
      "execution_count": 33,
      "metadata": {
        "id": "ugV_nZ_qdzf_"
      },
      "outputs": [],
      "source": [
        "model.compile(loss='categorical_crossentropy',\n",
        "              optimizer=tf.optimizers.Adam(),\n",
        "              metrics=['accuracy'])"
      ]
    },
    {
      "cell_type": "code",
      "execution_count": 34,
      "metadata": {
        "colab": {
          "base_uri": "https://localhost:8080/"
        },
        "id": "xS7gMjA6d-II",
        "outputId": "9854be31-882e-43a7-c70a-819de85b94d9"
      },
      "outputs": [
        {
          "name": "stdout",
          "output_type": "stream",
          "text": [
            "Epoch 1/10\n",
            "42/42 [==============================] - ETA: 0s - loss: 1.2619 - accuracy: 0.4193\n",
            "Epoch 1: val_accuracy improved from -inf to 0.52746, saving model to Model\\model_final.keras\n",
            "42/42 [==============================] - 50s 1s/step - loss: 1.2619 - accuracy: 0.4193 - val_loss: 0.9380 - val_accuracy: 0.5275\n",
            "Epoch 2/10\n",
            "42/42 [==============================] - ETA: 0s - loss: 0.9180 - accuracy: 0.5495\n",
            "Epoch 2: val_accuracy improved from 0.52746 to 0.72082, saving model to Model\\model_final.keras\n",
            "42/42 [==============================] - 51s 1s/step - loss: 0.9180 - accuracy: 0.5495 - val_loss: 0.6162 - val_accuracy: 0.7208\n",
            "Epoch 3/10\n",
            "42/42 [==============================] - ETA: 0s - loss: 0.8538 - accuracy: 0.6492\n",
            "Epoch 3: val_accuracy improved from 0.72082 to 0.73570, saving model to Model\\model_final.keras\n",
            "42/42 [==============================] - 49s 1s/step - loss: 0.8538 - accuracy: 0.6492 - val_loss: 0.5935 - val_accuracy: 0.7357\n",
            "Epoch 4/10\n",
            "42/42 [==============================] - ETA: 0s - loss: 0.6595 - accuracy: 0.7549\n",
            "Epoch 4: val_accuracy improved from 0.73570 to 0.95423, saving model to Model\\model_final.keras\n",
            "42/42 [==============================] - 49s 1s/step - loss: 0.6595 - accuracy: 0.7549 - val_loss: 0.2794 - val_accuracy: 0.9542\n",
            "Epoch 5/10\n",
            "42/42 [==============================] - ETA: 0s - loss: 0.3919 - accuracy: 0.8760\n",
            "Epoch 5: val_accuracy did not improve from 0.95423\n",
            "42/42 [==============================] - 38s 905ms/step - loss: 0.3919 - accuracy: 0.8760 - val_loss: 0.1738 - val_accuracy: 0.9428\n",
            "Epoch 6/10\n",
            "42/42 [==============================] - ETA: 0s - loss: 0.2754 - accuracy: 0.9117\n",
            "Epoch 6: val_accuracy improved from 0.95423 to 0.96453, saving model to Model\\model_final.keras\n",
            "42/42 [==============================] - 48s 1s/step - loss: 0.2754 - accuracy: 0.9117 - val_loss: 0.1229 - val_accuracy: 0.9645\n",
            "Epoch 7/10\n",
            "42/42 [==============================] - ETA: 0s - loss: 0.3485 - accuracy: 0.8866\n",
            "Epoch 7: val_accuracy improved from 0.96453 to 0.97025, saving model to Model\\model_final.keras\n",
            "42/42 [==============================] - 47s 1s/step - loss: 0.3485 - accuracy: 0.8866 - val_loss: 0.1080 - val_accuracy: 0.9703\n",
            "Epoch 8/10\n",
            "42/42 [==============================] - ETA: 0s - loss: 0.2709 - accuracy: 0.9087\n",
            "Epoch 8: val_accuracy did not improve from 0.97025\n",
            "42/42 [==============================] - 59s 1s/step - loss: 0.2709 - accuracy: 0.9087 - val_loss: 0.1195 - val_accuracy: 0.9680\n",
            "Epoch 9/10\n",
            "42/42 [==============================] - ETA: 0s - loss: 0.2257 - accuracy: 0.9307\n",
            "Epoch 9: val_accuracy did not improve from 0.97025\n",
            "42/42 [==============================] - 44s 1s/step - loss: 0.2257 - accuracy: 0.9307 - val_loss: 0.1183 - val_accuracy: 0.9680\n",
            "Epoch 10/10\n",
            "42/42 [==============================] - ETA: 0s - loss: 0.2580 - accuracy: 0.9216\n",
            "Epoch 10: val_accuracy did not improve from 0.97025\n",
            "42/42 [==============================] - 45s 1s/step - loss: 0.2580 - accuracy: 0.9216 - val_loss: 0.1207 - val_accuracy: 0.9680\n"
          ]
        },
        {
          "data": {
            "text/plain": [
              "<keras.src.callbacks.History at 0x1ea11ff54e0>"
            ]
          },
          "execution_count": 34,
          "metadata": {},
          "output_type": "execute_result"
        }
      ],
      "source": [
        "model.fit(\n",
        "      train_generator,\n",
        "      batch_size=64,\n",
        "      epochs=10,\n",
        "      validation_data=validation_generator,\n",
        "      callbacks=[checkpoint, early_stopping]\n",
        "      )"
      ]
    }
  ],
  "metadata": {
    "colab": {
      "provenance": []
    },
    "kernelspec": {
      "display_name": "Python 3",
      "name": "python3"
    },
    "language_info": {
      "codemirror_mode": {
        "name": "ipython",
        "version": 3
      },
      "file_extension": ".py",
      "mimetype": "text/x-python",
      "name": "python",
      "nbconvert_exporter": "python",
      "pygments_lexer": "ipython3",
      "version": "3.10.11"
    }
  },
  "nbformat": 4,
  "nbformat_minor": 0
}
